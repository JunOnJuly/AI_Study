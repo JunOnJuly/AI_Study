{
 "cells": [
  {
   "cell_type": "code",
   "execution_count": 78,
   "id": "953569b9",
   "metadata": {},
   "outputs": [],
   "source": [
    "import random\n",
    "import numpy as np\n",
    "import matplotlib.pyplot as plt"
   ]
  },
  {
   "cell_type": "code",
   "execution_count": 106,
   "id": "df638a22",
   "metadata": {},
   "outputs": [],
   "source": [
    "# 함수의 계수를 랜덤으로 추출\n",
    "def random_func(var_num, var_range):\n",
    "    var_picked = np.random.randint(1, var_range+1, size=var_num)\n",
    "    print(var_picked)\n",
    "    return var_picked\n",
    "\n",
    "# 함숫값 계산\n",
    "def cal_func(var_list, x_index):\n",
    "    x_list = np.array([x_index**i for i in range(len(var_list))])\n",
    "    return sum(var_list*x_list)\n",
    "\n",
    "# 미분\n",
    "def grad_func(var_list, x_index):\n",
    "    lambda_x = 1e-6\n",
    "    func_val = cal_func(var_list, x_index)\n",
    "    func_val_lambda = cal_func(var_list, x_index+lambda_x)\n",
    "    return (func_val_lambda - func_val) / lambda_x\n",
    "\n",
    "# 경사하강법\n",
    "def gradient_descent(var_num, var_range, picked_var):\n",
    "    return_x_list = []\n",
    "    return_grad_list = []\n",
    "    \n",
    "    x_index = 0\n",
    "    min_grad = np.inf\n",
    "    alpha = 1e-3\n",
    "    cnt = 0\n",
    "    while True:\n",
    "        if cnt > 200:\n",
    "            break\n",
    "            \n",
    "        grad_at_point = grad_func(picked_var, x_index)\n",
    "        \n",
    "        if abs(grad_at_point) < 0.01:\n",
    "            min_grad = grad_at_point\n",
    "            print('-----------')\n",
    "            print(f'x_index : {x_index}')\n",
    "            print(f'grad_at_point : {grad_at_point}')\n",
    "            break\n",
    "            \n",
    "        if min_grad > abs(grad_at_point):\n",
    "            print('\\n----------- min_grad updated')\n",
    "            print(f'min_grad : {grad_at_point}')\n",
    "            print(f'x_index : {x_index}')\n",
    "            \n",
    "            return_x_list.append(x_index)\n",
    "            return_grad_list.append(grad_at_point)\n",
    "            \n",
    "            min_grad = abs(grad_at_point)\n",
    "            x_index -= alpha*grad_at_point\n",
    "            alpha = 0.2\n",
    "            \n",
    "        else:\n",
    "            print('\\n-----------')\n",
    "            print(f'min_grad : {grad_at_point}')\n",
    "            print(f'x_index : {x_index}')\n",
    "            \n",
    "            return_x_list.append(x_index)\n",
    "            return_grad_list.append(grad_at_point)\n",
    "            \n",
    "            x_index -= alpha*grad_at_point\n",
    "            \n",
    "        cnt += 1\n",
    "        \n",
    "        \n",
    "    return round(min_grad, 6), return_x_list, return_grad_list"
   ]
  },
  {
   "cell_type": "code",
   "execution_count": 114,
   "id": "81b47f32",
   "metadata": {},
   "outputs": [
    {
     "name": "stdout",
     "output_type": "stream",
     "text": [
      "[1 2 4]\n",
      "\n",
      "----------- min_grad updated\n",
      "min_grad : 2.0000039999690244\n",
      "x_index : 0\n",
      "\n",
      "----------- min_grad updated\n",
      "min_grad : 1.9840039678920007\n",
      "x_index : -0.0020000039999690244\n",
      "\n",
      "----------- min_grad updated\n",
      "min_grad : -1.1904023805575648\n",
      "x_index : -0.39880079757836917\n",
      "\n",
      "----------- min_grad updated\n",
      "min_grad : 0.7142414283345389\n",
      "x_index : -0.16072032146685622\n",
      "\n",
      "----------- min_grad updated\n",
      "min_grad : -0.42854485704513223\n",
      "x_index : -0.303568607133764\n",
      "\n",
      "----------- min_grad updated\n",
      "min_grad : 0.2571269142048749\n",
      "x_index : -0.21785963572473754\n",
      "\n",
      "----------- min_grad updated\n",
      "min_grad : -0.15427614852292493\n",
      "x_index : -0.2692850185657125\n",
      "\n",
      "----------- min_grad updated\n",
      "min_grad : 0.09256568911375496\n",
      "x_index : -0.23842978886112753\n",
      "\n",
      "----------- min_grad updated\n",
      "min_grad : -0.055539413512661895\n",
      "x_index : -0.2569429266838785\n",
      "\n",
      "----------- min_grad updated\n",
      "min_grad : 0.03332364817421052\n",
      "x_index : -0.24583504398134615\n",
      "\n",
      "----------- min_grad updated\n",
      "min_grad : -0.01999418886011739\n",
      "x_index : -0.25249977361618825\n",
      "\n",
      "----------- min_grad updated\n",
      "min_grad : 0.011996513338274895\n",
      "x_index : -0.24850093584416477\n",
      "-----------\n",
      "x_index : -0.25090023851181975\n",
      "grad_at_point : -0.007197908047373858\n"
     ]
    }
   ],
   "source": [
    "var_num = 3\n",
    "var_range = 5\n",
    "picked_var = random_func(var_num, var_range)\n",
    "\n",
    "min_grad, returned_x, returned_grad = gradient_descent(var_num, var_range, picked_var)"
   ]
  },
  {
   "cell_type": "code",
   "execution_count": 116,
   "id": "c1510f49",
   "metadata": {},
   "outputs": [
    {
     "data": {
      "text/plain": [
       "[<matplotlib.lines.Line2D at 0x25d39039160>]"
      ]
     },
     "execution_count": 116,
     "metadata": {},
     "output_type": "execute_result"
    },
    {
     "data": {
      "image/png": "[encoded data removed]",
      "text/plain": [
       "<Figure size 432x288 with 1 Axes>"
      ]
     },
     "metadata": {
      "needs_background": "light"
     },
     "output_type": "display_data"
    }
   ],
   "source": [
    "plt_x = np.arange(-0.5, 0.01, 0.001)\n",
    "plt_y = np.array(list(map(lambda x: cal_func(picked_var, x), plt_x)))\n",
    "\n",
    "moved_x = returned_x\n",
    "moved_y = np.array(list(map(lambda x: cal_func(picked_var, x), returned_x)))\n",
    "\n",
    "plt.plot(plt_x, plt_y)\n",
    "plt.plot(moved_x, moved_y, c='red')"
   ]
  }
 ],
 "metadata": {
  "kernelspec": {
   "display_name": "Python 3 (ipykernel)",
   "language": "python",
   "name": "python3"
  },
  "language_info": {
   "codemirror_mode": {
    "name": "ipython",
    "version": 3
   },
   "file_extension": ".py",
   "mimetype": "text/x-python",
   "name": "python",
   "nbconvert_exporter": "python",
   "pygments_lexer": "ipython3",
   "version": "3.9.13"
  }
 },
 "nbformat": 4,
 "nbformat_minor": 5
}
