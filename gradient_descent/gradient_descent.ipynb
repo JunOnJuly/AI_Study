{
 "cells": [
  {
   "cell_type": "code",
   "execution_count": 1,
   "id": "953569b9",
   "metadata": {},
   "outputs": [],
   "source": [
    "import random\n",
    "import numpy as np\n",
    "import matplotlib.pyplot as plt"
   ]
  },
  {
   "cell_type": "code",
   "execution_count": 2,
   "id": "df638a22",
   "metadata": {},
   "outputs": [],
   "source": [
    "# 함수의 계수를 랜덤으로 추출\n",
    "def random_func(var_num, var_range):\n",
    "    var_picked = np.random.randint(1, var_range+1, size=var_num)\n",
    "    print(var_picked)\n",
    "    return var_picked\n",
    "\n",
    "# 함숫값 계산\n",
    "def cal_func(var_list, x_index):\n",
    "    x_list = np.array([x_index**i for i in range(len(var_list))])\n",
    "    return sum(var_list*x_list)\n",
    "\n",
    "# 미분\n",
    "def grad_func(var_list, x_index):\n",
    "    lambda_x = 1e-6\n",
    "    func_val = cal_func(var_list, x_index)\n",
    "    func_val_lambda = cal_func(var_list, x_index+lambda_x)\n",
    "    return (func_val_lambda - func_val) / lambda_x\n",
    "\n",
    "# 경사하강법\n",
    "def gradient_descent(var_num, var_range, picked_var):\n",
    "    return_x_list = []\n",
    "    return_grad_list = []\n",
    "    \n",
    "    x_index = 0\n",
    "    min_grad = np.inf\n",
    "    alpha = 1e-3\n",
    "    cnt = 0\n",
    "    while True:\n",
    "        if cnt > 200:\n",
    "            break\n",
    "            \n",
    "        grad_at_point = grad_func(picked_var, x_index)\n",
    "        \n",
    "        if abs(grad_at_point) < 0.01:\n",
    "            min_grad = grad_at_point\n",
    "            print('-----------')\n",
    "            print(f'x_index : {x_index}')\n",
    "            print(f'grad_at_point : {grad_at_point}')\n",
    "            break\n",
    "            \n",
    "        if min_grad > abs(grad_at_point):\n",
    "            print('\\n----------- min_grad updated')\n",
    "            print(f'min_grad : {grad_at_point}')\n",
    "            print(f'x_index : {x_index}')\n",
    "            \n",
    "            return_x_list.append(x_index)\n",
    "            return_grad_list.append(grad_at_point)\n",
    "            \n",
    "            min_grad = abs(grad_at_point)\n",
    "            x_index -= alpha*grad_at_point\n",
    "            alpha = 0.2\n",
    "            \n",
    "        else:\n",
    "            print('\\n-----------')\n",
    "            print(f'min_grad : {grad_at_point}')\n",
    "            print(f'x_index : {x_index}')\n",
    "            \n",
    "            return_x_list.append(x_index)\n",
    "            return_grad_list.append(grad_at_point)\n",
    "            \n",
    "            x_index -= alpha*grad_at_point\n",
    "            \n",
    "        cnt += 1\n",
    "        \n",
    "        \n",
    "    return round(min_grad, 6), return_x_list, return_grad_list"
   ]
  },
  {
   "cell_type": "code",
   "execution_count": 22,
   "id": "81b47f32",
   "metadata": {},
   "outputs": [
    {
     "name": "stdout",
     "output_type": "stream",
     "text": [
      "[3 4 4]\n",
      "\n",
      "----------- min_grad updated\n",
      "min_grad : 4.000004000026536\n",
      "x_index : 0\n",
      "\n",
      "----------- min_grad updated\n",
      "min_grad : 3.968003968068956\n",
      "x_index : -0.004000004000026536\n",
      "\n",
      "----------- min_grad updated\n",
      "min_grad : -2.3808023810190093\n",
      "x_index : -0.7976007976138177\n",
      "\n",
      "----------- min_grad updated\n",
      "min_grad : 1.4284814287002234\n",
      "x_index : -0.3214403214100159\n",
      "\n",
      "----------- min_grad updated\n",
      "min_grad : -0.8570888572201341\n",
      "x_index : -0.6071366071500606\n",
      "\n",
      "----------- min_grad updated\n",
      "min_grad : 0.5142533141544448\n",
      "x_index : -0.43571883570603376\n",
      "\n",
      "----------- min_grad updated\n",
      "min_grad : -0.308551988403849\n",
      "x_index : -0.5385694985369227\n",
      "\n",
      "----------- min_grad updated\n",
      "min_grad : 0.18513119348639862\n",
      "x_index : -0.4768591008561529\n",
      "\n",
      "----------- min_grad updated\n",
      "min_grad : -0.11107871689119975\n",
      "x_index : -0.5138853395534326\n",
      "\n",
      "----------- min_grad updated\n",
      "min_grad : 0.06664723084526258\n",
      "x_index : -0.4916695961751927\n",
      "\n",
      "----------- min_grad updated\n",
      "min_grad : -0.03998833841833971\n",
      "x_index : -0.5049990423442452\n",
      "\n",
      "----------- min_grad updated\n",
      "min_grad : 0.023993002695732457\n",
      "x_index : -0.49700137466057726\n",
      "\n",
      "----------- min_grad updated\n",
      "min_grad : -0.01439580143980379\n",
      "x_index : -0.5017999751997237\n",
      "-----------\n",
      "x_index : -0.498920814911763\n",
      "grad_at_point : 0.008637480952700116\n"
     ]
    }
   ],
   "source": [
    "var_num = 3\n",
    "var_range = 5\n",
    "picked_var = random_func(var_num, var_range)\n",
    "\n",
    "min_grad, returned_x, returned_grad = gradient_descent(var_num, var_range, picked_var)"
   ]
  },
  {
   "cell_type": "code",
   "execution_count": 24,
   "id": "c1510f49",
   "metadata": {},
   "outputs": [
    {
     "data": {
      "text/plain": [
       "[<matplotlib.lines.Line2D at 0x2330550de50>]"
      ]
     },
     "execution_count": 24,
     "metadata": {},
     "output_type": "execute_result"
    },
    {
     "data": {
      "image/png": "[encoded data removed]",
      "text/plain": [
       "<Figure size 432x288 with 1 Axes>"
      ]
     },
     "metadata": {
      "needs_background": "light"
     },
     "output_type": "display_data"
    }
   ],
   "source": [
    "plt_x = np.arange(-1.0, 0.01, 0.001)\n",
    "plt_y = np.array(list(map(lambda x: cal_func(picked_var, x), plt_x)))\n",
    "\n",
    "moved_x = returned_x\n",
    "moved_y = np.array(list(map(lambda x: cal_func(picked_var, x), returned_x)))\n",
    "\n",
    "plt.plot(plt_x, plt_y)\n",
    "plt.plot(moved_x, moved_y, c='red')"
   ]
  }
 ],
 "metadata": {
  "kernelspec": {
   "display_name": "Python 3",
   "language": "python",
   "name": "python3"
  },
  "language_info": {
   "codemirror_mode": {
    "name": "ipython",
    "version": 3
   },
   "file_extension": ".py",
   "mimetype": "text/x-python",
   "name": "python",
   "nbconvert_exporter": "python",
   "pygments_lexer": "ipython3",
   "version": "3.8.8"
  }
 },
 "nbformat": 4,
 "nbformat_minor": 5
}
