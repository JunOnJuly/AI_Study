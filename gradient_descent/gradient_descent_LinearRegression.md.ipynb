{
 "cells": [
  {
   "cell_type": "code",
   "execution_count": 1,
   "id": "fed02132",
   "metadata": {},
   "outputs": [],
   "source": [
    "import random as rd\n",
    "import numpy as np\n",
    "import matplotlib.pyplot as plt"
   ]
  },
  {
   "cell_type": "code",
   "execution_count": 2,
   "id": "211e6834",
   "metadata": {},
   "outputs": [],
   "source": [
    "def make_random_params(param_range):\n",
    "    return np.random.randint(1, param_range+1, size=2)"
   ]
  },
  {
   "cell_type": "code",
   "execution_count": 3,
   "id": "7688bf27",
   "metadata": {},
   "outputs": [],
   "source": [
    "def cal_func(params, x_index):\n",
    "    x_values = np.array([(x_index**i) for i in range(len(params))])\n",
    "    return sum(x_values*params)"
   ]
  },
  {
   "cell_type": "code",
   "execution_count": 4,
   "id": "20aad78f",
   "metadata": {},
   "outputs": [],
   "source": [
    "def make_random_points(params, param_range, points_num):\n",
    "    picked_x = np.random.choice(np.arange(-20, 21), points_num, replace=False)\n",
    "    picked_y = list(map(lambda x: cal_func(params, x), picked_x))\n",
    "    randomized_picked_y = np.array(list(map(lambda x: x*(np.random.rand(1)[0]), picked_y)))\n",
    "    return picked_x, randomized_picked_y"
   ]
  },
  {
   "cell_type": "code",
   "execution_count": 13,
   "id": "30db6754",
   "metadata": {},
   "outputs": [],
   "source": [
    "def loss_func():\n",
    "    pass"
   ]
  },
  {
   "cell_type": "code",
   "execution_count": 12,
   "id": "71495479",
   "metadata": {},
   "outputs": [],
   "source": [
    "def grad_func(param_val, target_param):\n",
    "    lambda_gard = 1e-6\n",
    "    pass"
   ]
  },
  {
   "cell_type": "code",
   "execution_count": 11,
   "id": "5be353a8",
   "metadata": {
    "scrolled": true
   },
   "outputs": [
    {
     "data": {
      "text/plain": [
       "[<matplotlib.lines.Line2D at 0x17e620f2fa0>]"
      ]
     },
     "execution_count": 11,
     "metadata": {},
     "output_type": "execute_result"
    },
    {
     "data": {
      "image/png": "[encoded data removed]",
      "text/plain": [
       "<Figure size 432x288 with 1 Axes>"
      ]
     },
     "metadata": {
      "needs_background": "light"
     },
     "output_type": "display_data"
    }
   ],
   "source": [
    "params = make_random_params(5)\n",
    "plot_x, plot_y = make_random_points(params, 5, 10)\n",
    "plt.plot(plot_x, plot_y, '.')"
   ]
  }
 ],
 "metadata": {
  "kernelspec": {
   "display_name": "Python 3 (ipykernel)",
   "language": "python",
   "name": "python3"
  },
  "language_info": {
   "codemirror_mode": {
    "name": "ipython",
    "version": 3
   },
   "file_extension": ".py",
   "mimetype": "text/x-python",
   "name": "python",
   "nbconvert_exporter": "python",
   "pygments_lexer": "ipython3",
   "version": "3.9.13"
  }
 },
 "nbformat": 4,
 "nbformat_minor": 5
}
