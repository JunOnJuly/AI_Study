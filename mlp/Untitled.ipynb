{
 "cells": [
  {
   "cell_type": "code",
   "execution_count": null,
   "id": "913548a3",
   "metadata": {},
   "outputs": [],
   "source": [
    "import pytorch\n",
    "print(torch.__version__)"
   ]
  }
 ],
 "metadata": {
  "kernelspec": {
   "display_name": "tc2.0.0cd11.7",
   "language": "python",
   "name": "tc2.0.0cd11.7"
  }
 },
 "nbformat": 4,
 "nbformat_minor": 5
}
