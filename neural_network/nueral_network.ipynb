{
 "cells": [
  {
   "cell_type": "code",
   "execution_count": 2,
   "id": "6e1e4b5e",
   "metadata": {},
   "outputs": [],
   "source": [
    "import numpy as np\n",
    "import matplotlib.pyplot as plt"
   ]
  },
  {
   "cell_type": "code",
   "execution_count": 60,
   "id": "2f9c6bd0",
   "metadata": {},
   "outputs": [],
   "source": [
    "def init_network():\n",
    "    network = {}\n",
    "    network['W1'] = np.around(np.random.rand(2, 3), 2)\n",
    "    network['b1'] = np.around(np.random.rand(3)-0.5, 2)\n",
    "    network['W2'] = np.around(np.random.rand(3, 2), 2)\n",
    "    network['b2'] = np.around(np.random.rand(2)-0.5, 2)\n",
    "    network['W3'] = np.around(np.random.rand(2, 1), 2)\n",
    "    network['b3'] = np.around(np.random.rand(1)-0.5, 2)\n",
    "    \n",
    "    return network\n",
    "\n",
    "\n",
    "def relu(x):\n",
    "    bool_x = x > 0\n",
    "    return bool_x * x\n",
    "\n",
    "\n",
    "def forward(network, x):\n",
    "    W1, W2, W3 = network['W1'], network['W2'], network['W3']\n",
    "    b1, b2, b3 = network['b1'], network['b2'], network['b3']\n",
    "    \n",
    "    print(f'{\"-\"*15}')\n",
    "    print(f'W1 : {W1}')\n",
    "    print(f'W2 : {W2}')\n",
    "    print(f'W3 : {W3}')\n",
    "    print(f'b1 : {b1}')\n",
    "    print(f'b2 : {b2}')\n",
    "    print(f'b3 : {b3}')\n",
    "    print(f'{\"-\"*15}')\n",
    "    \n",
    "    a1 = np.dot(x, W1) + b1\n",
    "    z1 = relu(a1)\n",
    "    \n",
    "    print(f'a1 : {a1}')\n",
    "    print(f'z1 : {z1}')\n",
    "    print(f'{\"-\"*15}')\n",
    "    \n",
    "    a2 = np.dot(z1, W2) + b2\n",
    "    z2 = relu(a2)\n",
    "    \n",
    "    print(f'a2 : {a2}')\n",
    "    print(f'z2 : {z2}')\n",
    "    print(f'{\"-\"*15}')\n",
    "    \n",
    "    a3 = np.dot(z2, W3) + b3\n",
    "    y = relu(a3)\n",
    "    \n",
    "    print(f'a3 : {a3}')\n",
    "    print(f'y : {y}')\n",
    "    print(f'{\"-\"*15}')\n",
    "    \n",
    "    return y"
   ]
  },
  {
   "cell_type": "code",
   "execution_count": 62,
   "id": "df553be9",
   "metadata": {
    "scrolled": true
   },
   "outputs": [
    {
     "name": "stdout",
     "output_type": "stream",
     "text": [
      "---------------\n",
      "W1 : [[0.19 0.46 0.72]\n",
      " [0.26 0.03 0.71]]\n",
      "W2 : [[0.58 0.46]\n",
      " [0.91 0.42]\n",
      " [0.44 0.34]]\n",
      "W3 : [[0.39]\n",
      " [0.42]]\n",
      "b1 : [-0.11  0.34 -0.48]\n",
      "b2 : [-0.15 -0.02]\n",
      "b3 : [0.19]\n",
      "---------------\n",
      "a1 : [0.34 0.83 0.95]\n",
      "z1 : [0.34 0.83 0.95]\n",
      "---------------\n",
      "a2 : [1.2205 0.808 ]\n",
      "z2 : [1.2205 0.808 ]\n",
      "---------------\n",
      "a3 : [1.005355]\n",
      "y : [1.005355]\n",
      "---------------\n"
     ]
    }
   ],
   "source": [
    "network = init_network()\n",
    "x = np.array([1, 1])\n",
    "y = forward(network, x)"
   ]
  }
 ],
 "metadata": {
  "kernelspec": {
   "display_name": "Python 3",
   "language": "python",
   "name": "python3"
  },
  "language_info": {
   "codemirror_mode": {
    "name": "ipython",
    "version": 3
   },
   "file_extension": ".py",
   "mimetype": "text/x-python",
   "name": "python",
   "nbconvert_exporter": "python",
   "pygments_lexer": "ipython3",
   "version": "3.8.8"
  }
 },
 "nbformat": 4,
 "nbformat_minor": 5
}
